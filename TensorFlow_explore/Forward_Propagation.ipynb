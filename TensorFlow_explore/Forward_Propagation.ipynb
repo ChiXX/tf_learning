{
 "cells": [
  {
   "cell_type": "code",
   "execution_count": 2,
   "metadata": {},
   "outputs": [
    {
     "name": "stdout",
     "output_type": "stream",
     "text": [
      "python version: 3.6.9 (default, Oct  8 2020, 12:12:24) \n",
      "tensorflow version: 2.3.1\n",
      "numpy version: 1.18.5\n",
      "pandas version: 1.1.3\n",
      "matplotlib version: 3.3.2\n"
     ]
    }
   ],
   "source": [
    "import os\n",
    "import sys\n",
    "import numpy as np\n",
    "import pandas as pd\n",
    "import matplotlib as mpl\n",
    "import matplotlib.pyplot as plt\n",
    "import tensorflow as tf\n",
    "from tensorflow import keras\n",
    "from tensorflow.keras import layers, optimizers, datasets\n",
    "\n",
    "print('python version:', sys.version.split('\\n')[0])\n",
    "for m in [tf, np, pd, mpl]:\n",
    "    print(m.__name__, 'version:', m.__version__)"
   ]
  },
  {
   "cell_type": "markdown",
   "metadata": {},
   "source": [
    "out = 𝑅e𝐿𝑈{𝑅e𝐿𝑈{𝑅e𝐿𝑈{X@W1+b1}@W2+b2}@W3+b3}"
   ]
  },
  {
   "cell_type": "code",
   "execution_count": 10,
   "metadata": {},
   "outputs": [],
   "source": [
    "def load_data():\n",
    "    (x, y), (x_val, y_val) = datasets.mnist.load_data()\n",
    "    \n",
    "    x = 2*tf.convert_to_tensor(x, dtype=tf.float32)/255.-1\n",
    "    y = tf.convert_to_tensor(y, dtype=tf.int32)\n",
    "    \n",
    "    x = tf.reshape(x, (-1, 28*28))\n",
    "    y = tf.one_hot(y, depth=10)\n",
    "    \n",
    "    train_dataset = tf.data.Dataset.from_tensor_slices((x, y))\n",
    "    train_dataset = train_dataset.batch(200)\n",
    "    \n",
    "    return train_dataset"
   ]
  },
  {
   "cell_type": "code",
   "execution_count": 6,
   "metadata": {},
   "outputs": [],
   "source": [
    "def init_paramaters():\n",
    "    \n",
    "    w1 = tf.Variable(tf.random.normal([784, 256], stddev=0.1))\n",
    "    b1 = tf.Variable(tf.zeros(256))\n",
    "    \n",
    "    w2 = tf.Variable(tf.random.normal([256, 128], stddev=0.1))\n",
    "    b2 = tf.Variable(tf.zeros(128))\n",
    "    \n",
    "    w3 = tf.Variable(tf.random.normal([128, 10], stddev=0.1))\n",
    "    b3 = tf.Variable(tf.zeros(10))\n",
    "    \n",
    "    return w1,b1,w2,b2,w3,b3"
   ]
  },
  {
   "cell_type": "code",
   "execution_count": 7,
   "metadata": {},
   "outputs": [],
   "source": [
    "def train_epoch(epoch, train_dataset, w1, b1, w2, b2, w3, b3, lr=0.001):\n",
    "    for step, (x, y) in enumerate(train_dataset):\n",
    "        with tf.GradientTape() as tape:\n",
    "            \n",
    "            # 1st layers\n",
    "            h1 = x@w1 + b1\n",
    "            h1 = tf.nn.relu(h1)\n",
    "            \n",
    "            # 2nd layers\n",
    "            h2 = h1@w2 + b2\n",
    "            h2 = tf.nn.relu(h2)\n",
    "            \n",
    "            # 3rd layers\n",
    "            out = h2@w3 + b3\n",
    "            \n",
    "            loss = tf.square(out - y)\n",
    "            loss = tf.reduce_mean(loss)\n",
    "            \n",
    "            grads = tape.gradient(loss, [w1, b1, w2, b2, w3, b3])\n",
    "        \n",
    "        w1.assign_sub(lr * grads[0])\n",
    "        b1.assign_sub(lr * grads[1])\n",
    "        w2.assign_sub(lr * grads[2])\n",
    "        b2.assign_sub(lr * grads[3])\n",
    "        w3.assign_sub(lr * grads[4])\n",
    "        b3.assign_sub(lr * grads[5])\n",
    "        \n",
    "        if step % 100 == 0:\n",
    "            print(epoch, step, 'loss:', loss.numpy())\n",
    "    \n",
    "    return loss.numpy()"
   ]
  },
  {
   "cell_type": "code",
   "execution_count": 8,
   "metadata": {},
   "outputs": [],
   "source": [
    "def train(epochs):\n",
    "    \n",
    "    total_loss = []\n",
    "    x = []\n",
    "    data = load_data()\n",
    "    w1,b1,w2,b2,w3,b3 = init_paramaters()\n",
    "    \n",
    "    for i in range(epochs):\n",
    "        loss = train_epoch(i,data,w1,b1,w2,b2,w3,b3)\n",
    "        total_loss.append(loss)\n",
    "        x.append(i)\n",
    "    \n",
    "    plt.plot(x, total_loss, color='blue', marker='s')\n",
    "    plt.xlabel('Epoch')\n",
    "    plt.ylabel('MSE')\n",
    "    plt.show()   "
   ]
  },
  {
   "cell_type": "code",
   "execution_count": 12,
   "metadata": {},
   "outputs": [
    {
     "name": "stdout",
     "output_type": "stream",
     "text": [
      "0 0 loss: 5.826967\n",
      "0 100 loss: 0.72572815\n",
      "0 200 loss: 0.48018765\n",
      "1 0 loss: 0.40342662\n",
      "1 100 loss: 0.3623934\n",
      "1 200 loss: 0.297965\n",
      "2 0 loss: 0.26698408\n",
      "2 100 loss: 0.26406872\n",
      "2 200 loss: 0.22897145\n",
      "3 0 loss: 0.20793077\n",
      "3 100 loss: 0.21776897\n",
      "3 200 loss: 0.1895094\n",
      "4 0 loss: 0.1757749\n",
      "4 100 loss: 0.1880257\n",
      "4 200 loss: 0.16384806\n",
      "5 0 loss: 0.15467396\n",
      "5 100 loss: 0.16780387\n",
      "5 200 loss: 0.14627676\n",
      "6 0 loss: 0.13978538\n",
      "6 100 loss: 0.15302053\n",
      "6 200 loss: 0.13344921\n",
      "7 0 loss: 0.12844223\n",
      "7 100 loss: 0.14149432\n",
      "7 200 loss: 0.123551086\n",
      "8 0 loss: 0.1193038\n",
      "8 100 loss: 0.13233237\n",
      "8 200 loss: 0.115653105\n",
      "9 0 loss: 0.11207275\n",
      "9 100 loss: 0.12487799\n",
      "9 200 loss: 0.10890362\n",
      "10 0 loss: 0.10621767\n",
      "10 100 loss: 0.11849195\n",
      "10 200 loss: 0.10319255\n",
      "11 0 loss: 0.10128218\n",
      "11 100 loss: 0.11310055\n",
      "11 200 loss: 0.0984069\n",
      "12 0 loss: 0.097056\n",
      "12 100 loss: 0.10845902\n",
      "12 200 loss: 0.09432308\n",
      "13 0 loss: 0.09340698\n",
      "13 100 loss: 0.10439222\n",
      "13 200 loss: 0.09085028\n",
      "14 0 loss: 0.09023886\n",
      "14 100 loss: 0.100851156\n",
      "14 200 loss: 0.08774835\n",
      "15 0 loss: 0.08743681\n",
      "15 100 loss: 0.097722605\n",
      "15 200 loss: 0.08497655\n",
      "16 0 loss: 0.08499079\n",
      "16 100 loss: 0.09494426\n",
      "16 200 loss: 0.08253741\n",
      "17 0 loss: 0.082764514\n",
      "17 100 loss: 0.09248393\n",
      "17 200 loss: 0.08042219\n",
      "18 0 loss: 0.08078871\n",
      "18 100 loss: 0.09022196\n",
      "18 200 loss: 0.07854782\n",
      "19 0 loss: 0.079014644\n",
      "19 100 loss: 0.08816497\n",
      "19 200 loss: 0.076846145\n"
     ]
    },
    {
     "data": {
      "image/png": "[encoded data removed]",
      "text/plain": [
       "<Figure size 432x288 with 1 Axes>"
      ]
     },
     "metadata": {
      "needs_background": "light"
     },
     "output_type": "display_data"
    }
   ],
   "source": [
    "train(20)"
   ]
  }
 ],
 "metadata": {
  "kernelspec": {
   "display_name": "Python 3",
   "language": "python",
   "name": "python3"
  },
  "language_info": {
   "codemirror_mode": {
    "name": "ipython",
    "version": 3
   },
   "file_extension": ".py",
   "mimetype": "text/x-python",
   "name": "python",
   "nbconvert_exporter": "python",
   "pygments_lexer": "ipython3",
   "version": "3.6.9"
  }
 },
 "nbformat": 4,
 "nbformat_minor": 4
}
