{
 "cells": [
  {
   "cell_type": "code",
   "execution_count": 5,
   "metadata": {},
   "outputs": [
    {
     "name": "stdout",
     "output_type": "stream",
     "text": [
      "python version: 3.6.9 (default, Oct  8 2020, 12:12:24) \n",
      "tensorflow version: 2.3.1\n",
      "numpy version: 1.18.5\n",
      "pandas version: 1.1.3\n",
      "matplotlib version: 3.3.2\n"
     ]
    }
   ],
   "source": [
    "import os\n",
    "import sys\n",
    "import numpy as np\n",
    "import pandas as pd\n",
    "import matplotlib as mpl\n",
    "import matplotlib.pyplot as plt\n",
    "import tensorflow as tf\n",
    "from tensorflow import keras\n",
    "from tensorflow.keras import layers, optimizers, datasets\n",
    "\n",
    "print('python version:', sys.version.split('\\n')[0])\n",
    "for m in [tf, np, pd, mpl]:\n",
    "    print(m.__name__, 'version:', m.__version__)"
   ]
  },
  {
   "cell_type": "markdown",
   "metadata": {},
   "source": [
    "# tf.constant\n",
    "## data type"
   ]
  },
  {
   "cell_type": "code",
   "execution_count": 24,
   "metadata": {},
   "outputs": [
    {
     "name": "stdout",
     "output_type": "stream",
     "text": [
      "a: tf.Tensor(2.8, shape=(), dtype=float32)\n",
      "b: tf.Tensor([1. 2. 3.], shape=(3,), dtype=float32)\n",
      "c: tf.Tensor(\n",
      "[[1. 2.]\n",
      " [3. 4.]], shape=(2, 2), dtype=float32)\n",
      "d: tf.Tensor(b'Hello world', shape=(), dtype=string)\n",
      "tf.Tensor(b'HELLO WORLD', shape=(), dtype=string)\n",
      "e: tf.Tensor(True, shape=(), dtype=bool)\n",
      "2.8\n",
      "[1. 2. 3.]\n",
      "[[1. 2.]\n",
      " [3. 4.]]\n"
     ]
    }
   ],
   "source": [
    "# scalar: dim = 0\n",
    "a = tf.constant(2.8)\n",
    "print('a:',a)\n",
    "\n",
    "# vector: dim = 1\n",
    "b = tf.constant([1.,2.,3.])\n",
    "print('b:',b)\n",
    "\n",
    "# matrix: dim>1\n",
    "c = tf.constant([[1.,2.], [3.,4.]])\n",
    "print('c:',c)\n",
    "\n",
    "# String\n",
    "d = tf.constant('Hello world')\n",
    "print('d:',d)\n",
    "print(tf.strings.upper(d))\n",
    "\n",
    "# Bool\n",
    "e = tf.constant(True)\n",
    "print('e:',e)\n",
    "\n",
    "# return numpy array\n",
    "print(a.numpy())\n",
    "print(b.numpy())\n",
    "print(c.numpy())"
   ]
  },
  {
   "cell_type": "markdown",
   "metadata": {},
   "source": [
    "## numerical precision"
   ]
  },
  {
   "cell_type": "code",
   "execution_count": 28,
   "metadata": {},
   "outputs": [
    {
     "name": "stdout",
     "output_type": "stream",
     "text": [
      "tf.Tensor(-13035, shape=(), dtype=int16)\n",
      "tf.Tensor(123456789, shape=(), dtype=int32)\n",
      "tf.Tensor(3.1415927, shape=(), dtype=float32)\n",
      "tf.Tensor(3.141592653589793, shape=(), dtype=float64)\n"
     ]
    }
   ],
   "source": [
    "print(tf.constant(123456789, dtype=tf.int16))\n",
    "print(tf.constant(123456789, dtype=tf.int32))\n",
    "\n",
    "print(tf.constant(np.pi, dtype=tf.float32))\n",
    "print(tf.constant(np.pi, dtype=tf.float64))"
   ]
  },
  {
   "cell_type": "code",
   "execution_count": 29,
   "metadata": {},
   "outputs": [
    {
     "data": {
      "text/plain": [
       "<tf.Tensor: shape=(), dtype=float64, numpy=3.140625>"
      ]
     },
     "execution_count": 29,
     "metadata": {},
     "output_type": "execute_result"
    }
   ],
   "source": [
    "a = tf.constant(np.pi, dtype=tf.float16)\n",
    "tf.cast(a, tf.double)"
   ]
  },
  {
   "cell_type": "markdown",
   "metadata": {},
   "source": [
    "# tf.Variable"
   ]
  },
  {
   "cell_type": "code",
   "execution_count": 34,
   "metadata": {},
   "outputs": [
    {
     "name": "stdout",
     "output_type": "stream",
     "text": [
      "<tf.Variable 'Variable:0' shape=(3,) dtype=float32, numpy=array([1., 2., 3.], dtype=float32)>\n",
      "Variable:0\n",
      "True\n"
     ]
    }
   ],
   "source": [
    "a = tf.Variable([1.,2.,3.])\n",
    "print(a)\n",
    "print(a.name)\n",
    "print(a.trainable)"
   ]
  },
  {
   "cell_type": "markdown",
   "metadata": {},
   "source": [
    "# creat a tensor"
   ]
  },
  {
   "cell_type": "code",
   "execution_count": 35,
   "metadata": {},
   "outputs": [
    {
     "name": "stdout",
     "output_type": "stream",
     "text": [
      "tf.Tensor([1. 2. 3.], shape=(3,), dtype=float32)\n",
      "tf.Tensor([4. 5. 6.], shape=(3,), dtype=float64)\n"
     ]
    }
   ],
   "source": [
    "# from list or np.array\n",
    "print(tf.convert_to_tensor([1.,2.,3.]))\n",
    "print(tf.convert_to_tensor(np.array([4.,5.,6.])))"
   ]
  },
  {
   "cell_type": "code",
   "execution_count": 36,
   "metadata": {},
   "outputs": [
    {
     "name": "stdout",
     "output_type": "stream",
     "text": [
      "tf.Tensor(\n",
      "[[0. 0.]\n",
      " [0. 0.]\n",
      " [0. 0.]], shape=(3, 2), dtype=float32)\n",
      "tf.Tensor(\n",
      "[[1. 1.]\n",
      " [1. 1.]\n",
      " [1. 1.]], shape=(3, 2), dtype=float32)\n"
     ]
    }
   ],
   "source": [
    "print(tf.zeros([3,2]))\n",
    "print(tf.ones([3,2]))"
   ]
  },
  {
   "cell_type": "code",
   "execution_count": 38,
   "metadata": {},
   "outputs": [
    {
     "name": "stdout",
     "output_type": "stream",
     "text": [
      "tf.Tensor(\n",
      "[[1 2]\n",
      " [3 4]], shape=(2, 2), dtype=int32)\n",
      "tf.Tensor(\n",
      "[[0 0]\n",
      " [0 0]], shape=(2, 2), dtype=int32)\n",
      "tf.Tensor(\n",
      "[[1 1]\n",
      " [1 1]], shape=(2, 2), dtype=int32)\n"
     ]
    }
   ],
   "source": [
    "a = tf.constant([[1,2],[3,4]])\n",
    "print(a)\n",
    "print(tf.zeros_like(a)) # tf.zeros(a.shape)\n",
    "print(tf.ones_like(a))"
   ]
  },
  {
   "cell_type": "code",
   "execution_count": 39,
   "metadata": {},
   "outputs": [
    {
     "data": {
      "text/plain": [
       "<tf.Tensor: shape=(3, 2), dtype=int32, numpy=\n",
       "array([[-1, -1],\n",
       "       [-1, -1],\n",
       "       [-1, -1]], dtype=int32)>"
      ]
     },
     "execution_count": 39,
     "metadata": {},
     "output_type": "execute_result"
    }
   ],
   "source": [
    "tf.fill([3,2], -1)"
   ]
  },
  {
   "cell_type": "code",
   "execution_count": 42,
   "metadata": {},
   "outputs": [
    {
     "name": "stdout",
     "output_type": "stream",
     "text": [
      "tf.Tensor(\n",
      "[[-1.1221858  -0.26447788 -0.19432648  0.21492243 -0.8909105 ]\n",
      " [-0.21538912  0.36525288  0.2668972  -0.62355417 -1.3194455 ]], shape=(2, 5), dtype=float32)\n",
      "tf.Tensor(\n",
      "[[4.7485695e+00 6.6635456e+00 1.1197376e+00 9.4262991e+00 8.9299889e+00]\n",
      " [1.4094007e+00 2.0307064e-01 5.2933526e+00 5.1143694e+00 1.9884109e-03]], shape=(2, 5), dtype=float32)\n"
     ]
    }
   ],
   "source": [
    "# normal distridution\n",
    "print(tf.random.normal([2,5], mean=0., stddev=1.))\n",
    "\n",
    "# uniform distribution\n",
    "print(tf.random.uniform([2,5], minval=0, maxval=10))"
   ]
  },
  {
   "cell_type": "code",
   "execution_count": 43,
   "metadata": {},
   "outputs": [
    {
     "data": {
      "text/plain": [
       "<tf.Tensor: shape=(5,), dtype=int32, numpy=array([1, 3, 5, 7, 9], dtype=int32)>"
      ]
     },
     "execution_count": 43,
     "metadata": {},
     "output_type": "execute_result"
    }
   ],
   "source": [
    "tf.range(1,10,2)"
   ]
  },
  {
   "cell_type": "markdown",
   "metadata": {},
   "source": [
    "# typical application"
   ]
  },
  {
   "cell_type": "code",
   "execution_count": 46,
   "metadata": {},
   "outputs": [
    {
     "name": "stdout",
     "output_type": "stream",
     "text": [
      "tf.Tensor([0.23846166 0.27725846 0.48889145 0.29928493], shape=(4,), dtype=float32)\n",
      "tf.Tensor(0.32597414, shape=(), dtype=float32)\n"
     ]
    }
   ],
   "source": [
    "# compute loss\n",
    "\n",
    "out = tf.random.uniform([4,10])\n",
    "y = tf.constant([1,1,2,0])\n",
    "y = tf.one_hot(y, depth=10)\n",
    "\n",
    "loss = tf.keras.losses.mse(y, out)\n",
    "print(loss)\n",
    "print(tf.reduce_mean(loss))"
   ]
  },
  {
   "cell_type": "code",
   "execution_count": 49,
   "metadata": {},
   "outputs": [
    {
     "name": "stdout",
     "output_type": "stream",
     "text": [
      "tf.Tensor(\n",
      "[[-2.8929625  -2.8929625  -2.8929625 ]\n",
      " [-0.65515757 -0.65515757 -0.65515757]], shape=(2, 3), dtype=float32)\n",
      "<tf.Variable 'kernel:0' shape=(4, 3) dtype=float32, numpy=\n",
      "array([[ 0.5747014 ,  0.90568733,  0.1645335 ],\n",
      "       [ 0.74360216,  0.40344596,  0.55422854],\n",
      "       [ 0.7008624 ,  0.36358738,  0.20591736],\n",
      "       [-0.7390164 ,  0.3078034 , -0.3821327 ]], dtype=float32)>\n"
     ]
    }
   ],
   "source": [
    "# linear layer\n",
    "\n",
    "x = tf.random.normal([2,4])\n",
    "w = tf.ones([4,3])\n",
    "b = tf.zeros([3])\n",
    "o = x@w+b\n",
    "print(o)\n",
    "\n",
    "fc = layers.Dense(3) # 3 nodes\n",
    "fc.build(input_shape=(2,4))\n",
    "print(fc.kernel) # w"
   ]
  },
  {
   "cell_type": "markdown",
   "metadata": {},
   "source": [
    "# index & slice"
   ]
  },
  {
   "cell_type": "code",
   "execution_count": 65,
   "metadata": {},
   "outputs": [
    {
     "name": "stdout",
     "output_type": "stream",
     "text": [
      "tf.Tensor(\n",
      "[[ 0.8802447  1.4221078]\n",
      " [-0.5304276 -0.2409979]], shape=(2, 2), dtype=float32)\n",
      "tf.Tensor(\n",
      "[[ 0.8802447  1.4221078]\n",
      " [-0.5304276 -0.2409979]], shape=(2, 2), dtype=float32)\n"
     ]
    }
   ],
   "source": [
    "# 4 2*2 RGB 3 channel pictures [b,h,w,c]\n",
    "\n",
    "x = tf.random.normal([4,2,2,3])\n",
    "\n",
    "# the first picture, the first channel\n",
    "print(x[0,::,::,0])\n",
    "print(x[0,...,0])"
   ]
  },
  {
   "cell_type": "code",
   "execution_count": 67,
   "metadata": {},
   "outputs": [
    {
     "name": "stdout",
     "output_type": "stream",
     "text": [
      "(4, 12)\n",
      "(4, 4, 3)\n"
     ]
    }
   ],
   "source": [
    "# reshape\n",
    "print(tf.reshape(x, [4,-1]).shape) # [4,2,2,3] -> [4,12]\n",
    "print(tf.reshape(x, [4,-1,3]).shape) # [4,2,2,3] -> [4,4,3]"
   ]
  },
  {
   "cell_type": "code",
   "execution_count": 83,
   "metadata": {},
   "outputs": [
    {
     "name": "stdout",
     "output_type": "stream",
     "text": [
      "(1, 28, 28)\n",
      "(28, 1, 28)\n",
      "(28, 28, 1)\n",
      "(28, 28)\n"
     ]
    }
   ],
   "source": [
    "# add or remove dimension\n",
    "x = tf.random.uniform([28,28], maxval=10, dtype=tf.int32)\n",
    "\n",
    "print(tf.expand_dims(x, axis=0).shape)\n",
    "print(tf.expand_dims(x, axis=1).shape)\n",
    "print(tf.expand_dims(x, axis=-1).shape)\n",
    "\n",
    "x = tf.expand_dims(x, axis=0)\n",
    "print(tf.squeeze(x, axis=0).shape) # remove the dim=1"
   ]
  },
  {
   "cell_type": "code",
   "execution_count": 84,
   "metadata": {},
   "outputs": [
    {
     "name": "stdout",
     "output_type": "stream",
     "text": [
      "(7, 6, 5, 4)\n"
     ]
    }
   ],
   "source": [
    "# exchange dimension\n",
    "\n",
    "x = tf.random.normal([4,5,6,7])\n",
    "\n",
    "print(tf.transpose(x, perm=[3,2,1,0]).shape)"
   ]
  },
  {
   "cell_type": "code",
   "execution_count": 93,
   "metadata": {},
   "outputs": [
    {
     "name": "stdout",
     "output_type": "stream",
     "text": [
      "(3,)\n",
      "(1, 3)\n",
      "tf.Tensor(\n",
      "[[1 2 3 1 2 3]\n",
      " [1 2 3 1 2 3]\n",
      " [1 2 3 1 2 3]], shape=(3, 6), dtype=int32)\n"
     ]
    }
   ],
   "source": [
    "# data duplicate\n",
    "\n",
    "x = tf.constant([1,2,3])\n",
    "print(x.shape)\n",
    "\n",
    "x = tf.expand_dims(x, axis=0)\n",
    "print(x.shape)\n",
    "\n",
    "print(tf.tile(x, multiples=[3,2])) # duplicate 3 times in axis=0, 2 times in axis=1"
   ]
  },
  {
   "cell_type": "code",
   "execution_count": 94,
   "metadata": {},
   "outputs": [
    {
     "data": {
      "text/plain": [
       "TensorShape([4, 32, 32, 3])"
      ]
     },
     "execution_count": 94,
     "metadata": {},
     "output_type": "execute_result"
    }
   ],
   "source": [
    "# broadcasting, more effective\n",
    "# broadcast [w,1] to [b,h,w,c]\n",
    "# 1. right justify: [_,_,w,1]\n",
    "# 2. insert new dimension from left: [1,1,w,1]\n",
    "# 3. dim=1 is expandable: [b,h,w,c]\n",
    "\n",
    "x = tf.random.normal([32,1])\n",
    "tf.broadcast_to(x, [4,32,32,3]).shape"
   ]
  }
 ],
 "metadata": {
  "kernelspec": {
   "display_name": "Python 3",
   "language": "python",
   "name": "python3"
  },
  "language_info": {
   "codemirror_mode": {
    "name": "ipython",
    "version": 3
   },
   "file_extension": ".py",
   "mimetype": "text/x-python",
   "name": "python",
   "nbconvert_exporter": "python",
   "pygments_lexer": "ipython3",
   "version": "3.6.9"
  }
 },
 "nbformat": 4,
 "nbformat_minor": 4
}
