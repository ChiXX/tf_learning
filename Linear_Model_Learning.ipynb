{
 "cells": [
  {
   "cell_type": "code",
   "execution_count": 1,
   "metadata": {},
   "outputs": [
    {
     "name": "stdout",
     "output_type": "stream",
     "text": [
      "tensorflow version: 2.3.1\n",
      "numpy version: 1.18.5\n",
      "pandas version: 1.1.3\n",
      "matplotlib version: 3.3.2\n"
     ]
    }
   ],
   "source": [
    "import tensorflow as tf\n",
    "import numpy as np\n",
    "import pandas as pd\n",
    "import matplotlib as mpl\n",
    "import matplotlib.pyplot as plt\n",
    "\n",
    "for m in [tf, np, pd, mpl]:\n",
    "    print(m.__name__, 'version:', m.__version__)"
   ]
  },
  {
   "cell_type": "markdown",
   "metadata": {},
   "source": [
    "Using y = 1.477 * x + 0.089 as target. Randomly generate 100 points distributing between (-10, 10). Add a noise N(0,0.1<sup>2</sup>)"
   ]
  },
  {
   "cell_type": "code",
   "execution_count": 2,
   "metadata": {},
   "outputs": [],
   "source": [
    "data = []\n",
    "\n",
    "for i in range(100):\n",
    "    x = np.random.uniform(-10.,10.)\n",
    "    # noise\n",
    "    esp = np.random.normal(0.,0.01)\n",
    "    y = 1.477 * x + 0.089 +esp\n",
    "    data.append([x,y])\n",
    "\n",
    "data = np.array(data)"
   ]
  },
  {
   "cell_type": "code",
   "execution_count": 3,
   "metadata": {},
   "outputs": [
    {
     "data": {
      "text/plain": [
       "[<matplotlib.lines.Line2D at 0x7fa22f029f98>]"
      ]
     },
     "execution_count": 3,
     "metadata": {},
     "output_type": "execute_result"
    },
    {
     "data": {
      "image/png": "[encoded data removed]",
      "text/plain": [
       "<Figure size 432x288 with 1 Axes>"
      ]
     },
     "metadata": {
      "needs_background": "light"
     },
     "output_type": "display_data"
    }
   ],
   "source": [
    "plt.plot(data[:,0], data[:,1])"
   ]
  },
  {
   "cell_type": "markdown",
   "metadata": {},
   "source": [
    "calculate error"
   ]
  },
  {
   "cell_type": "code",
   "execution_count": 4,
   "metadata": {},
   "outputs": [],
   "source": [
    "# b: bias \n",
    "# w: weights\n",
    "def mse(b, w, points):\n",
    "    totalError = 0\n",
    "    for i in range(0, len(points)):\n",
    "        x = points[i, 0]\n",
    "        y = points[i, 1]\n",
    "        totalError += (y - (w * x + b)) ** 2\n",
    "    return totalError / float(len(points))"
   ]
  },
  {
   "cell_type": "markdown",
   "metadata": {},
   "source": [
    "calculate gradient"
   ]
  },
  {
   "cell_type": "code",
   "execution_count": 5,
   "metadata": {},
   "outputs": [],
   "source": [
    "# lr: learning rate\n",
    "def step_gradient(b, w, points, lr):\n",
    "    b_gradient = 0\n",
    "    w_gradient = 0 # The amount of samples\n",
    "    M = float(len(points))\n",
    "    for i in range(0, len(points)):\n",
    "        x = points[i, 0]\n",
    "        y = points[i, 1]\n",
    "        # The gradient of loss\n",
    "        b_gradient += (2/M) * ((w * x + b) - y)\n",
    "        w_gradient += (2/M) * x * ((w * x + b) - y)\n",
    "    # update b and w\n",
    "    new_b = b - lr*b_gradient\n",
    "    new_w = w - lr*w_gradient\n",
    "    \n",
    "    return [new_b, new_w]"
   ]
  },
  {
   "cell_type": "markdown",
   "metadata": {},
   "source": [
    "update gradient"
   ]
  },
  {
   "cell_type": "code",
   "execution_count": 6,
   "metadata": {},
   "outputs": [],
   "source": [
    "def gradient_descent(points, b_original, w_original, lr, epoch):\n",
    "    b = b_original\n",
    "    w = w_original\n",
    "    total_loss = []\n",
    "    for step in range(epoch):\n",
    "        b, w = step_gradient(b, w, np.array(points), lr) # update\n",
    "        loss = mse(b, w, points)\n",
    "        total_loss.append(loss)\n",
    "#         if step%50 == 0:\n",
    "#             print(f\"iteration:{step}, loss:{loss}, w:{w}, b:{b}\")\n",
    "    return [b, w], total_loss"
   ]
  },
  {
   "cell_type": "code",
   "execution_count": 7,
   "metadata": {},
   "outputs": [],
   "source": [
    "def main():\n",
    "    lr = 0.01 # learning rate\n",
    "    initial_b = 0\n",
    "    initial_w = 0\n",
    "    num_iterations = 1000\n",
    "    [b, w], total_loss = gradient_descent(data, initial_b, initial_w, lr, num_iterations)\n",
    "    loss = mse(b, w, data)\n",
    "    print(f'Final loss:{loss}, w:{w}, b:{b}')\n",
    "    plt.plot(total_loss)\n",
    "    plt.xlabel('epochs')\n",
    "    plt.ylabel('MSE')\n",
    "    plt.show()"
   ]
  },
  {
   "cell_type": "code",
   "execution_count": 9,
   "metadata": {},
   "outputs": [
    {
     "name": "stdout",
     "output_type": "stream",
     "text": [
      "Final loss:7.513676389953044e-05, w:1.4769618399693978, b:0.09053137375535374\n"
     ]
    },
    {
     "data": {
      "image/png": "[encoded data removed]",
      "text/plain": [
       "<Figure size 432x288 with 1 Axes>"
      ]
     },
     "metadata": {
      "needs_background": "light"
     },
     "output_type": "display_data"
    }
   ],
   "source": [
    "if __name__ == '__main__':\n",
    "    main()"
   ]
  }
 ],
 "metadata": {
  "kernelspec": {
   "display_name": "Python 3",
   "language": "python",
   "name": "python3"
  },
  "language_info": {
   "codemirror_mode": {
    "name": "ipython",
    "version": 3
   },
   "file_extension": ".py",
   "mimetype": "text/x-python",
   "name": "python",
   "nbconvert_exporter": "python",
   "pygments_lexer": "ipython3",
   "version": "3.6.9"
  }
 },
 "nbformat": 4,
 "nbformat_minor": 4
}
