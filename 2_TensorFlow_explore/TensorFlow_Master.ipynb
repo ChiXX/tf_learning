{
 "cells": [
  {
   "cell_type": "code",
   "execution_count": 1,
   "metadata": {},
   "outputs": [
    {
     "name": "stdout",
     "output_type": "stream",
     "text": [
      "python version: 3.6.9 (default, Oct  8 2020, 12:12:24) \n",
      "tensorflow version: 2.3.1\n",
      "numpy version: 1.18.5\n",
      "pandas version: 1.1.3\n",
      "matplotlib version: 3.3.2\n"
     ]
    }
   ],
   "source": [
    "import os\n",
    "import sys\n",
    "import numpy as np\n",
    "import pandas as pd\n",
    "import matplotlib as mpl\n",
    "import matplotlib.pyplot as plt\n",
    "import tensorflow as tf\n",
    "from tensorflow import keras\n",
    "from tensorflow.keras import layers, optimizers, datasets\n",
    "\n",
    "print('python version:', sys.version.split('\\n')[0])\n",
    "for m in [tf, np, pd, mpl]:\n",
    "    print(m.__name__, 'version:', m.__version__)"
   ]
  },
  {
   "cell_type": "markdown",
   "metadata": {},
   "source": [
    "# concatenation & split"
   ]
  },
  {
   "cell_type": "code",
   "execution_count": 5,
   "metadata": {},
   "outputs": [
    {
     "data": {
      "text/plain": [
       "TensorShape([5, 28, 28])"
      ]
     },
     "execution_count": 5,
     "metadata": {},
     "output_type": "execute_result"
    }
   ],
   "source": [
    "# concatenation\n",
    "\n",
    "a = tf.random.normal([3,28,28]) # 3 pictures\n",
    "b = tf.random.normal([2,28,28]) # 2 pictures\n",
    "\n",
    "tf.concat([a, b], axis=0).shape # 5 pictures"
   ]
  },
  {
   "cell_type": "code",
   "execution_count": 7,
   "metadata": {},
   "outputs": [
    {
     "data": {
      "text/plain": [
       "TensorShape([2, 28, 28])"
      ]
     },
     "execution_count": 7,
     "metadata": {},
     "output_type": "execute_result"
    }
   ],
   "source": [
    "# stack\n",
    "\n",
    "a = tf.random.normal([28,28]) # a picture\n",
    "b = tf.random.normal([28,28]) # another picture\n",
    "\n",
    "tf.stack([a,b], axis=0).shape # 2 pictures"
   ]
  },
  {
   "cell_type": "code",
   "execution_count": 20,
   "metadata": {},
   "outputs": [
    {
     "name": "stdout",
     "output_type": "stream",
     "text": [
      "5\n",
      "3\n"
     ]
    }
   ],
   "source": [
    "# split\n",
    "\n",
    "x = tf.random.normal([100,28,28]) # 100 pictires\n",
    "\n",
    "print(len(tf.split(x, num_or_size_splits=5, axis=0))) # 5 portions of pictures\n",
    "print(len(tf.split(x, num_or_size_splits=[20,30,50], axis=0))) # 3 portions of pictures with the size of 20, 30 and 50"
   ]
  },
  {
   "cell_type": "code",
   "execution_count": 22,
   "metadata": {},
   "outputs": [
    {
     "name": "stdout",
     "output_type": "stream",
     "text": [
      "100\n",
      "(28, 28)\n"
     ]
    }
   ],
   "source": [
    "# unstack\n",
    "\n",
    "x = tf.random.normal([100,28,28]) # 100 pictires\n",
    "\n",
    "print(len(tf.unstack(x, axis=0)))\n",
    "print(tf.unstack(x, axis=0)[0].shape)"
   ]
  },
  {
   "cell_type": "markdown",
   "metadata": {},
   "source": [
    "# statistics"
   ]
  },
  {
   "cell_type": "code",
   "execution_count": 24,
   "metadata": {},
   "outputs": [
    {
     "name": "stdout",
     "output_type": "stream",
     "text": [
      "tf.Tensor(4.0, shape=(), dtype=float32)\n",
      "tf.Tensor(2.0, shape=(), dtype=float32)\n",
      "tf.Tensor(1.0, shape=(), dtype=float32)\n"
     ]
    }
   ],
   "source": [
    "# norm \n",
    "\n",
    "x = tf.ones([2,2])\n",
    "\n",
    "print(tf.norm(x, ord=1)) # L1\n",
    "print(tf.norm(x, ord=2)) # L2\n",
    "print(tf.norm(x, ord=np.inf)) # max(|x|)"
   ]
  },
  {
   "cell_type": "code",
   "execution_count": 36,
   "metadata": {},
   "outputs": [
    {
     "name": "stdout",
     "output_type": "stream",
     "text": [
      "tf.Tensor([1.6245486 1.2567406 1.8754562 1.0777475], shape=(4,), dtype=float32)\n",
      "tf.Tensor([ 0.11524653  0.39018917 -0.2849515  -0.29134542], shape=(4,), dtype=float32)\n",
      "tf.Tensor(-2.0447829, shape=(), dtype=float32)\n",
      "tf.Tensor([5 6 5 5], shape=(4,), dtype=int64)\n"
     ]
    }
   ],
   "source": [
    "# min, max, mean, sum ...\n",
    "\n",
    "x = tf.random.normal([4,10])\n",
    "\n",
    "# local\n",
    "print(tf.reduce_max(x, axis=1))\n",
    "print(tf.reduce_mean(x, axis=1))\n",
    "\n",
    "# global\n",
    "print(tf.reduce_min(x))\n",
    "\n",
    "# the index of ...\n",
    "print(tf.argmax(x, axis=1)) # defalt axis=0"
   ]
  },
  {
   "cell_type": "markdown",
   "metadata": {},
   "source": [
    "# tensor comparison"
   ]
  },
  {
   "cell_type": "code",
   "execution_count": 45,
   "metadata": {},
   "outputs": [
    {
     "name": "stdout",
     "output_type": "stream",
     "text": [
      "3.0\n"
     ]
    }
   ],
   "source": [
    "out = tf.random.normal([100,10])\n",
    "out = tf.nn.softmax(out, axis=1)\n",
    "pred = tf.argmax(out, axis=1)\n",
    "y = tf.random.uniform([100],dtype=tf.int64,maxval=10)\n",
    "out = tf.equal(pred,y)\n",
    "out = tf.cast(out, dtype=tf.float32)\n",
    "correct = tf.reduce_sum(out)\n",
    "print(correct.numpy())"
   ]
  },
  {
   "cell_type": "markdown",
   "metadata": {},
   "source": [
    "# Padding"
   ]
  },
  {
   "cell_type": "code",
   "execution_count": 46,
   "metadata": {},
   "outputs": [
    {
     "data": {
      "text/plain": [
       "<tf.Tensor: shape=(2, 6), dtype=int32, numpy=\n",
       "array([[1, 2, 3, 4, 5, 6],\n",
       "       [7, 8, 1, 6, 0, 0]], dtype=int32)>"
      ]
     },
     "execution_count": 46,
     "metadata": {},
     "output_type": "execute_result"
    }
   ],
   "source": [
    "# paddings = [[L padding, R padding], ...., [L padding, R padding]] ## dim 1, ..., dim n\n",
    "\n",
    "a = tf.constant([1,2,3,4,5,6])\n",
    "b = tf.constant([7,8,1,6])\n",
    "\n",
    "b = tf.pad(b, [[0,2]]) # pad zero 0 from right and two 0s from left in the first dimension\n",
    "\n",
    "tf.stack([a,b],axis=0)"
   ]
  },
  {
   "cell_type": "markdown",
   "metadata": {},
   "source": [
    "# data clipped"
   ]
  },
  {
   "cell_type": "code",
   "execution_count": 48,
   "metadata": {},
   "outputs": [
    {
     "name": "stdout",
     "output_type": "stream",
     "text": [
      "tf.Tensor([2 2 2 3 4 5 6 7 7], shape=(9,), dtype=int32)\n",
      "tf.Tensor([2 2 2 3 4 5 6 7 7], shape=(9,), dtype=int32)\n"
     ]
    }
   ],
   "source": [
    "# tf.maximum(x, a) [0, +inf) -> [a, +inf)\n",
    "# tf.minimum(x, a) [0, +inf) -> [0, a]\n",
    "\n",
    "x = tf.range(9) # [0,9)\n",
    "print(tf.minimum(tf.maximum(x,2),7))\n",
    "print(tf.clip_by_value(x, 2, 7))"
   ]
  },
  {
   "cell_type": "markdown",
   "metadata": {},
   "source": [
    "# advanced operation"
   ]
  },
  {
   "cell_type": "code",
   "execution_count": 50,
   "metadata": {},
   "outputs": [
    {
     "name": "stdout",
     "output_type": "stream",
     "text": [
      "(3, 28, 28, 3)\n"
     ]
    }
   ],
   "source": [
    "# tf.gather: get the data according the index\n",
    "\n",
    "x = tf.random.normal([100, 28, 28, 3]) # 100 RGB pictures\n",
    "\n",
    "print(tf.gather(x, [28, 36, 99], axis=0).shape) # get the 29th, 37th, 100th picture"
   ]
  },
  {
   "cell_type": "code",
   "execution_count": 60,
   "metadata": {},
   "outputs": [
    {
     "name": "stdout",
     "output_type": "stream",
     "text": [
      "(3, 28, 28)\n",
      "(3, 28, 28)\n"
     ]
    }
   ],
   "source": [
    "# tf.gather_nd: sample and stack\n",
    "\n",
    "x = tf.random.normal([100, 28, 28, 3])\n",
    "x = tf.transpose(x, perm=[0,3,1,2]) # move the color info to the 2nd dimension\n",
    "\n",
    "print(tf.stack([x[28,0],x[36,0],x[99,0]],axis=0).shape) # the R chanel of three pictures\n",
    "print(tf.gather_nd(x, [[28,0],[36,0],[99,0]]).shape)"
   ]
  },
  {
   "cell_type": "code",
   "execution_count": 62,
   "metadata": {},
   "outputs": [
    {
     "name": "stdout",
     "output_type": "stream",
     "text": [
      "(100, 28, 28, 2)\n"
     ]
    }
   ],
   "source": [
    "# tf.boolean_mask\n",
    "x = tf.random.normal([100, 28, 28, 3]) # 100 RGB pictures\n",
    "\n",
    "print(tf.boolean_mask(x, mask=[True, False, True], axis=3).shape) # get RB chanel"
   ]
  },
  {
   "cell_type": "code",
   "execution_count": 63,
   "metadata": {},
   "outputs": [
    {
     "data": {
      "text/plain": [
       "<tf.Tensor: shape=(3, 3), dtype=float32, numpy=\n",
       "array([[1., 0., 0.],\n",
       "       [0., 1., 0.],\n",
       "       [0., 0., 1.]], dtype=float32)>"
      ]
     },
     "execution_count": 63,
     "metadata": {},
     "output_type": "execute_result"
    }
   ],
   "source": [
    "# tf.where(cond, a, b): a cond b? a:b\n",
    "\n",
    "a = tf.ones([3,3])\n",
    "b = tf.zeros([3,3])\n",
    "cond = tf.constant([[True,False,False],[False,True,False],[False,False,True]])\n",
    "\n",
    "tf.where(cond,a,b)"
   ]
  },
  {
   "cell_type": "code",
   "execution_count": 69,
   "metadata": {},
   "outputs": [
    {
     "name": "stdout",
     "output_type": "stream",
     "text": [
      "tf.Tensor(\n",
      "[[0 0]\n",
      " [0 1]\n",
      " [1 0]\n",
      " [2 1]], shape=(4, 2), dtype=int64)\n"
     ]
    },
    {
     "data": {
      "text/plain": [
       "<tf.Tensor: shape=(4,), dtype=float32, numpy=array([1.0917095 , 0.16817929, 1.2301319 , 0.98438597], dtype=float32)>"
      ]
     },
     "execution_count": 69,
     "metadata": {},
     "output_type": "execute_result"
    }
   ],
   "source": [
    "# get all the positive value and their index in a tensor\n",
    "x = tf.random.normal([3,3])\n",
    "\n",
    "indices = tf.where(x>0)\n",
    "print(indices)\n",
    "\n",
    "tf.gather_nd(x, indices)"
   ]
  },
  {
   "cell_type": "code",
   "execution_count": 74,
   "metadata": {},
   "outputs": [
    {
     "name": "stdout",
     "output_type": "stream",
     "text": [
      "tf.Tensor([0.  1.1 0.  3.3 4.4 0.  0.  7.7], shape=(8,), dtype=float32)\n",
      "tf.Tensor(\n",
      "[[1 1 1]\n",
      " [0 0 0]\n",
      " [3 3 3]], shape=(3, 3), dtype=int32)\n"
     ]
    }
   ],
   "source": [
    "# tf.scatter_nd: refresh the blank board according to indices\n",
    "\n",
    "indices = tf.constant([[4], [3], [1], [7]])\n",
    "updates = tf.constant([4.4, 3.3, 1.1, 7.7])\n",
    "\n",
    "print(tf.scatter_nd(indices, updates, [8]))\n",
    "\n",
    "indices = tf.constant([[0], [2]])\n",
    "updates = tf.constant([[1,1,1], [3,3,3]])\n",
    "\n",
    "print(tf.scatter_nd(indices, updates, [3,3]))"
   ]
  },
  {
   "cell_type": "code",
   "execution_count": 77,
   "metadata": {
    "scrolled": true
   },
   "outputs": [
    {
     "name": "stdout",
     "output_type": "stream",
     "text": [
      "(100, 100) (100, 100)\n"
     ]
    },
    {
     "data": {
      "image/png": "[encoded data removed]",
      "text/plain": [
       "<Figure size 432x288 with 1 Axes>"
      ]
     },
     "metadata": {
      "needs_background": "light"
     },
     "output_type": "display_data"
    }
   ],
   "source": [
    "# tf.meshgrid\n",
    "\n",
    "# ineffecient\n",
    "# points = [] \n",
    "# for x in range(-8,8,100): \n",
    "#     for y in range(-8,8,100): \n",
    "#         z = sinc(x,y) \n",
    "#         points.append([x,y,z])\n",
    "\n",
    "x = tf.linspace(-8, 8, 100)\n",
    "y = tf.linspace(-8, 8, 100)\n",
    "x, y = tf.meshgrid(x, y)\n",
    "print(x.shape, y.shape)\n",
    "\n",
    "z = tf.sqrt(x**2+y**2)\n",
    "z = tf.sin(z)/z\n",
    "\n",
    "from mpl_toolkits.mplot3d import Axes3D\n",
    "fig = plt.figure()\n",
    "ax = Axes3D(fig)\n",
    "ax.contour3D(x.numpy(), y.numpy(), z.numpy(), 50)\n",
    "plt.show()"
   ]
  },
  {
   "cell_type": "markdown",
   "metadata": {},
   "source": [
    "# Loading common data"
   ]
  },
  {
   "cell_type": "code",
   "execution_count": 104,
   "metadata": {},
   "outputs": [
    {
     "name": "stdout",
     "output_type": "stream",
     "text": [
      "x: (60000, 28, 28) y: (60000,) x test: (10000, 28, 28) y test: [7 2 1 ... 4 5 6]\n"
     ]
    }
   ],
   "source": [
    "# datasets.xxx.load_data(): CIFAR10, MINST...\n",
    "(x, y), (x_test, y_test) = datasets.mnist.load_data() # return 2 tuple\n",
    "print('x:', x.shape, 'y:', y.shape, 'x test:', x_test.shape, 'y test:',\n",
    "y_test)\n",
    "\n",
    "train_db = tf.data.Dataset.from_tensor_slices((x, y)) # convert to Dataset object"
   ]
  },
  {
   "cell_type": "code",
   "execution_count": 80,
   "metadata": {},
   "outputs": [],
   "source": [
    "# Dataset.shuffle(buffer_size)\n",
    "train_db = train_db.shuffle(10000)"
   ]
  },
  {
   "cell_type": "code",
   "execution_count": 105,
   "metadata": {},
   "outputs": [],
   "source": [
    "# batch training\n",
    "train_db = train_db.batch(128)"
   ]
  },
  {
   "cell_type": "code",
   "execution_count": 101,
   "metadata": {},
   "outputs": [],
   "source": [
    "# Dataset .map(preprocess)\n",
    "\n",
    "def preprocess(x,y):\n",
    "    \n",
    "    x = tf.cast(x, dtype=tf.float32) / 255.\n",
    "    x = tf.reshape(x, [-1, 28*28])\n",
    "    \n",
    "    y = tf.cast(y, dtype=tf.int32)\n",
    "    y = tf.one_hot(y, depth=10)\n",
    "    \n",
    "    return x,y\n",
    "\n",
    "train_db = train_db.map(preprocess)"
   ]
  },
  {
   "cell_type": "code",
   "execution_count": 106,
   "metadata": {},
   "outputs": [],
   "source": [
    "for epoch in range(20): # loop all dataset 20 times\n",
    "    \n",
    "    for step, (x,y) in enumerate(train_db): # one step loop one batch\n",
    "        pass\n",
    "\n",
    "# train_db = train_db.repeat(20) # equivalent"
   ]
  }
 ],
 "metadata": {
  "kernelspec": {
   "display_name": "Python 3",
   "language": "python",
   "name": "python3"
  },
  "language_info": {
   "codemirror_mode": {
    "name": "ipython",
    "version": 3
   },
   "file_extension": ".py",
   "mimetype": "text/x-python",
   "name": "python",
   "nbconvert_exporter": "python",
   "pygments_lexer": "ipython3",
   "version": "3.6.9"
  }
 },
 "nbformat": 4,
 "nbformat_minor": 4
}
