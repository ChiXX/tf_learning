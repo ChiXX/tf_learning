{
 "cells": [
  {
   "cell_type": "code",
   "execution_count": 32,
   "metadata": {},
   "outputs": [
    {
     "name": "stdout",
     "output_type": "stream",
     "text": [
      "3.6.9 (default, Oct  8 2020, 12:12:24) \n",
      "[GCC 8.4.0]\n",
      "tensorflow version: 2.3.1\n",
      "numpy version: 1.18.5\n",
      "pandas version: 1.1.3\n",
      "matplotlib version: 3.3.2\n"
     ]
    }
   ],
   "source": [
    "import os\n",
    "import sys\n",
    "import numpy as np\n",
    "import pandas as pd\n",
    "import matplotlib as mpl\n",
    "import matplotlib.pyplot as plt\n",
    "import tensorflow as tf\n",
    "from tensorflow import keras\n",
    "from tensorflow.keras import layers, optimizers, datasets\n",
    "\n",
    "print(sys.version)\n",
    "for m in [tf, np, pd, mpl]:\n",
    "    print(m.__name__, 'version:', m.__version__)"
   ]
  },
  {
   "cell_type": "markdown",
   "metadata": {},
   "source": [
    "Load the MINST dataset"
   ]
  },
  {
   "cell_type": "code",
   "execution_count": 12,
   "metadata": {},
   "outputs": [
    {
     "name": "stdout",
     "output_type": "stream",
     "text": [
      "Downloading data from https://storage.googleapis.com/tensorflow/tf-keras-datasets/mnist.npz\n",
      "11493376/11490434 [==============================] - 0s 0us/step\n"
     ]
    }
   ],
   "source": [
    "(x, y), (x_val, y_val) = datasets.mnist.load_data()"
   ]
  },
  {
   "cell_type": "code",
   "execution_count": 14,
   "metadata": {},
   "outputs": [
    {
     "name": "stdout",
     "output_type": "stream",
     "text": [
      "(60000, 28, 28) (60000, 10)\n"
     ]
    }
   ],
   "source": [
    "x = 2*tf.convert_to_tensor(x, dtype=tf.float32)/255.-1 # Normalize and rescale to [-1, 1]\n",
    "y = tf.convert_to_tensor(y, dtype=tf.int32)\n",
    "y = tf.one_hot(y, depth=10) # onehot encoding\n",
    "print(x.shape, y.shape)\n",
    "train_dataset = tf.data.Dataset.from_tensor_slices((x, y))\n",
    "train_dataset = train_dataset.batch(512)"
   ]
  },
  {
   "cell_type": "markdown",
   "metadata": {},
   "source": [
    "model building\n",
    "\n",
    "Samilar to linear model y = w * x + b, but w and x are vector format, so y = w @ x + b"
   ]
  },
  {
   "cell_type": "code",
   "execution_count": 38,
   "metadata": {},
   "outputs": [],
   "source": [
    "model = keras.Sequential([\n",
    "    layers.Dense(256, activation = 'relu'), # hiden layer 1\n",
    "    layers.Dense(128, activation = 'relu'), # hiden layer 2\n",
    "    layers.Dense(10)\n",
    "])\n",
    "optimizer = optimizers.SGD(learning_rate=0.001)"
   ]
  },
  {
   "cell_type": "markdown",
   "metadata": {},
   "source": [
    "training"
   ]
  },
  {
   "cell_type": "code",
   "execution_count": 40,
   "metadata": {},
   "outputs": [],
   "source": [
    "def train_epoch(epoch):\n",
    "    # step 4: loop\n",
    "    for step, (x, y) in enumerate(train_dataset):\n",
    "\n",
    "        with tf.GradientTape() as tape:\n",
    "            # step 1: get output\n",
    "            x = tf.reshape(x, (-1, 28*28)) # [b, 28, 28] -> [b, 784]\n",
    "            out = model(x)\n",
    "            # step 2: calculate loss\n",
    "            loss = tf.reduce_sum(tf.square(out - y)) / x.shape[0]\n",
    "        # Step3. optimize and update w & b\n",
    "        grads = tape.gradient(loss, model.trainable_variables)\n",
    "        # w' = w - lr * grad\n",
    "        optimizer.apply_gradients(zip(grads, model.trainable_variables))\n",
    "        \n",
    "        \n",
    "        if step % 100 == 0:\n",
    "            print(epoch, step, 'loss:', loss.numpy())"
   ]
  },
  {
   "cell_type": "code",
   "execution_count": 42,
   "metadata": {},
   "outputs": [
    {
     "name": "stdout",
     "output_type": "stream",
     "text": [
      "0 0 loss: 0.26843852\n",
      "0 100 loss: 0.25721028\n",
      "1 0 loss: 0.26693225\n",
      "1 100 loss: 0.25574034\n",
      "2 0 loss: 0.2654407\n",
      "2 100 loss: 0.25430554\n",
      "3 0 loss: 0.26396757\n",
      "3 100 loss: 0.25287843\n",
      "4 0 loss: 0.26253432\n",
      "4 100 loss: 0.25150537\n",
      "5 0 loss: 0.26112047\n",
      "5 100 loss: 0.25016156\n",
      "6 0 loss: 0.2597256\n",
      "6 100 loss: 0.24884829\n",
      "7 0 loss: 0.2583528\n",
      "7 100 loss: 0.24756417\n",
      "8 0 loss: 0.25700623\n",
      "8 100 loss: 0.24631226\n",
      "9 0 loss: 0.2556783\n",
      "9 100 loss: 0.24505304\n",
      "10 0 loss: 0.25437045\n",
      "10 100 loss: 0.24383089\n",
      "11 0 loss: 0.25308877\n",
      "11 100 loss: 0.24263868\n",
      "12 0 loss: 0.25183997\n",
      "12 100 loss: 0.2414714\n",
      "13 0 loss: 0.25061208\n",
      "13 100 loss: 0.24031994\n",
      "14 0 loss: 0.2494261\n",
      "14 100 loss: 0.2391952\n",
      "15 0 loss: 0.24824058\n",
      "15 100 loss: 0.23809028\n",
      "16 0 loss: 0.24707028\n",
      "16 100 loss: 0.23700501\n",
      "17 0 loss: 0.24594347\n",
      "17 100 loss: 0.23594657\n",
      "18 0 loss: 0.24484336\n",
      "18 100 loss: 0.23489094\n",
      "19 0 loss: 0.24376407\n",
      "19 100 loss: 0.23386107\n",
      "20 0 loss: 0.24270691\n",
      "20 100 loss: 0.23284829\n",
      "21 0 loss: 0.24164444\n",
      "21 100 loss: 0.23184508\n",
      "22 0 loss: 0.24059248\n",
      "22 100 loss: 0.23086618\n",
      "23 0 loss: 0.23957609\n",
      "23 100 loss: 0.22991493\n",
      "24 0 loss: 0.23858425\n",
      "24 100 loss: 0.22898233\n",
      "25 0 loss: 0.23759207\n",
      "25 100 loss: 0.22805366\n",
      "26 0 loss: 0.23662338\n",
      "26 100 loss: 0.22714517\n",
      "27 0 loss: 0.23566309\n",
      "27 100 loss: 0.22625303\n",
      "28 0 loss: 0.23470375\n",
      "28 100 loss: 0.22536674\n",
      "29 0 loss: 0.23377016\n",
      "29 100 loss: 0.22450417\n"
     ]
    },
    {
     "data": {
      "image/png": "[encoded data removed]",
      "text/plain": [
       "<Figure size 432x288 with 1 Axes>"
      ]
     },
     "metadata": {
      "needs_background": "light"
     },
     "output_type": "display_data"
    }
   ],
   "source": [
    "for epoch in range(30):\n",
    "    train_epoch(epoch)"
   ]
  }
 ],
 "metadata": {
  "kernelspec": {
   "display_name": "Python 3",
   "language": "python",
   "name": "python3"
  },
  "language_info": {
   "codemirror_mode": {
    "name": "ipython",
    "version": 3
   },
   "file_extension": ".py",
   "mimetype": "text/x-python",
   "name": "python",
   "nbconvert_exporter": "python",
   "pygments_lexer": "ipython3",
   "version": "3.6.9"
  }
 },
 "nbformat": 4,
 "nbformat_minor": 4
}
